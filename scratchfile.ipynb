{
 "cells": [
  {
   "cell_type": "code",
   "execution_count": 4,
   "metadata": {},
   "outputs": [],
   "source": [
    "from torch import tensor"
   ]
  },
  {
   "cell_type": "code",
   "execution_count": 5,
   "metadata": {},
   "outputs": [],
   "source": [
    "from_c = '0: 1.000000     1: 0.000000     2: 1.000000     3: 0.000000     4: 0.000000     5: 0.000000     6: 0.000000     7: 0.000000     8: 0.000000    9: 0.000000     10: 1.000000    11: 1.000000    12: 0.000000    13: 0.000000    14: 1.000000    15: 0.000000    16: 0.000000  17: 0.000000     18: 0.000000    19: 0.000000    20: 0.000000    21: 0.000000    22: 0.000000    23: 0.000000    24: 0.000000    25: 0.000000   26: 0.000000    27: 1.000000    28: 0.000000    29: 0.000000    30: 0.000000    31: 0.000000    32: 0.000000    33: 0.000000  34: 0.000000     35: 0.000000    36: 0.000000    37: 0.000000    38: 0.000000    39: 0.000000    40: 1.000000    41: 0.000000    42: 0.000000   43: 0.000000    44: 0.000000    45: 0.000000    46: 0.000000    47: 0.000000    48: 0.000000    49: 1.000000    50: 0.000000  51: 1.000000     52: 0.000000    53: 1.000000    54: 0.000000    55: 0.000000'\n",
    "from_p = tensor([1., 0., 1., 0., 0., 0., 0., 0., 0., 0., 1., 1., 0., 0., 1., 0., 0., 0.,\n",
    "        0., 0., 0., 0., 0., 0., 0., 0., 0., 1., 0., 0., 0., 0., 0., 0., 0., 0.,\n",
    "        0., 0., 0., 0., 1., 0., 0., 0., 0., 0., 0., 0., 0., 1., 0., 1., 0., 1.,\n",
    "        0., 0.])"
   ]
  },
  {
   "cell_type": "code",
   "execution_count": 6,
   "metadata": {},
   "outputs": [
    {
     "name": "stdout",
     "output_type": "stream",
     "text": [
      "torch.Size([56])\n"
     ]
    },
    {
     "ename": "IndexError",
     "evalue": "too many indices for tensor of dimension 1",
     "output_type": "error",
     "traceback": [
      "\u001b[0;31m---------------------------------------------------------------------------\u001b[0m",
      "\u001b[0;31mIndexError\u001b[0m                                Traceback (most recent call last)",
      "Cell \u001b[0;32mIn[6], line 2\u001b[0m\n\u001b[1;32m      1\u001b[0m \u001b[38;5;28mprint\u001b[39m(from_p\u001b[38;5;241m.\u001b[39mshape)\n\u001b[0;32m----> 2\u001b[0m from_p \u001b[38;5;241m=\u001b[39m \u001b[43mfrom_p\u001b[49m\u001b[43m[\u001b[49m\u001b[43m:\u001b[49m\u001b[43m,\u001b[49m\u001b[43m:\u001b[49m\u001b[38;5;241;43m56\u001b[39;49m\u001b[43m]\u001b[49m\n\u001b[1;32m      3\u001b[0m \u001b[38;5;28mprint\u001b[39m(from_p)\n",
      "\u001b[0;31mIndexError\u001b[0m: too many indices for tensor of dimension 1"
     ]
    }
   ],
   "source": [
    "print(from_p.shape)\n",
    "from_p = from_p[:,:56]\n",
    "print(from_p)"
   ]
  },
  {
   "cell_type": "code",
   "execution_count": 77,
   "metadata": {},
   "outputs": [
    {
     "name": "stdout",
     "output_type": "stream",
     "text": [
      "1.000000\n",
      "0.000000\n",
      "1.000000\n",
      "0.000000\n",
      "0.000000\n",
      "0.000000\n",
      "0.000000\n",
      "0.000000\n",
      "0.000000\n",
      "0.000000\n",
      "1.000000\n",
      "1.000000\n",
      "0.000000\n",
      "0.000000\n",
      "1.000000\n",
      "0.000000\n",
      "0.000000\n",
      "0.000000\n",
      "0.000000\n",
      "0.000000\n",
      "0.000000\n",
      "0.000000\n",
      "0.000000\n",
      "0.000000\n",
      "0.000000\n",
      "0.000000\n",
      "0.000000\n",
      "1.000000\n",
      "0.000000\n",
      "0.000000\n",
      "0.000000\n",
      "0.000000\n",
      "0.000000\n",
      "0.000000\n",
      "0.000000\n",
      "0.000000\n",
      "0.000000\n",
      "0.000000\n",
      "0.000000\n",
      "0.000000\n",
      "1.000000\n",
      "0.000000\n",
      "0.000000\n",
      "0.000000\n",
      "0.000000\n",
      "0.000000\n",
      "0.000000\n",
      "0.000000\n",
      "0.000000\n",
      "1.000000\n",
      "0.000000\n",
      "1.000000\n",
      "0.000000\n",
      "1.000000\n",
      "0.000000\n",
      "0.000000\n",
      "tensor([1., 0., 1., 0., 0., 0., 0., 0., 0., 0., 1., 1., 0., 0., 1., 0., 0., 0.,\n",
      "        0., 0., 0., 0., 0., 0., 0., 0., 0., 1., 0., 0., 0., 0., 0., 0., 0., 0.,\n",
      "        0., 0., 0., 0., 1., 0., 0., 0., 0., 0., 0., 0., 0., 1., 0., 1., 0., 1.,\n",
      "        0., 0.])\n"
     ]
    }
   ],
   "source": [
    "# from_c_list = [float(x.split(': ')[1].strip()) for x in from_c.split('   ')]\n",
    "from_c_list = []\n",
    "for x in from_c.split(':'):\n",
    "    for i in x.strip().split(' '):\n",
    "        if i != '' and len(i) > 3:\n",
    "            print(i)\n",
    "            from_c_list.append(float(i))\n",
    "from_c_tensor = tensor(from_c_list)\n",
    "print(from_c_tensor)"
   ]
  },
  {
   "cell_type": "code",
   "execution_count": 78,
   "metadata": {},
   "outputs": [
    {
     "name": "stdout",
     "output_type": "stream",
     "text": [
      "tensor([0., 0., 0., 0., 0., 0., 0., 0., 0., 0., 0., 0., 0., 0., 0., 0., 0., 0., 0., 0., 0., 0., 0., 0.,\n",
      "        0., 0., 0., 0., 0., 0., 0., 0., 0., 0., 0., 0., 0., 0., 0., 0., 0., 0., 0., 0., 0., 0., 0., 0.,\n",
      "        0., 0., 0., 0., 0., 0., 0., 0.])\n",
      "True\n"
     ]
    }
   ],
   "source": [
    "print(from_p.reshape(from_c_tensor.shape)-from_c_tensor)\n",
    "import numpy as np\n",
    "print(np.allclose(from_p.reshape(from_c_tensor.shape), from_c_tensor, atol=1e-4))"
   ]
  },
  {
   "cell_type": "code",
   "execution_count": 1,
   "metadata": {},
   "outputs": [],
   "source": [
    "import numpy as np"
   ]
  },
  {
   "cell_type": "code",
   "execution_count": 150,
   "metadata": {},
   "outputs": [],
   "source": [
    "outputs_c = '''0: -0.268686    1: 0.096854     2: 0.184507     3: 0.549704\n",
    "0: 0.388102     1: 0.595771     2: 0.511689     3: 0.496114\n",
    "0: -0.151394    1: 0.409451     2: 0.002139     3: -0.077049\n",
    "0: 0.297985     1: 0.390778     2: 0.122387     3: 0.622142\n",
    "0: 0.761780     1: 0.688550     2: -0.059910    3: 0.498886\n",
    "0: 0.150056     1: 0.357885     2: 0.259009     3: 0.019212\n",
    "0: 0.903141     1: 0.528781     2: 0.504609     3: 0.768598\n",
    "0: 0.472589     1: 0.484422     2: 0.724738     3: 0.552427\n",
    "0: 0.658617     1: -0.260635    2: 0.058780     3: 0.370446\n",
    "0: 0.776304     1: 0.402462     2: 0.854386     3: 0.723279\n",
    "0: 0.830417     1: 0.405620     2: 0.674315     3: 0.414413\n",
    "0: -0.221795    1: 0.634565     2: 0.420316     3: 0.503969\n",
    "0: 0.716349     1: 0.616026     2: 0.798654     3: 0.299413\n",
    "0: 0.032669     1: 0.528914     2: 0.805211     3: 0.293685\n",
    "0: 0.933487     1: 0.523864     2: 0.612120     3: 0.698835\n",
    "0: -0.647495    1: 0.540122     2: 0.276014     3: 0.096287\n",
    "0: -0.210396    1: 0.446149     2: 0.563466     3: 0.172629\n",
    "0: 0.295466     1: 0.359963     2: -0.330073    3: 0.274190\n",
    "0: 0.740225     1: 0.172051     2: -0.229041    3: 0.635339\n",
    "0: 0.795100     1: 0.607392     2: 0.364552     3: 0.424637\n",
    "0: -0.346475    1: 0.308424     2: 0.166713     3: 0.250433\n",
    "0: 0.323147     1: 0.404514     2: -0.578015    3: 0.276551\n",
    "0: 0.494443     1: 0.058113     2: 0.851651     3: 0.795521\n",
    "0: 0.120120     1: 0.317060     2: 0.406238     3: 0.244346\n",
    "0: 0.602462     1: -0.320285    2: 0.763864     3: 0.463227\n",
    "0: 0.759087     1: 0.174135     2: 0.404368     3: 0.750663\n",
    "0: 0.610081     1: 0.288397     2: 0.201654     3: -0.261195\n",
    "0: 0.101053     1: 0.248511     2: -0.005442    3: -0.052212\n",
    "0: 0.791351     1: 0.511003     2: -0.233719    3: -0.029204\n",
    "0: -0.268349    1: 0.519833     2: 0.449625     3: 0.097003\n",
    "0: -0.322736    1: 0.221918     2: 0.460575     3: -0.159646\n",
    "0: 0.139625     1: 0.628243     2: 0.701386     3: 0.541498\n",
    "0: 0.171476     1: 0.062181     2: 0.853478     3: 0.471336\n",
    "0: 0.096143     1: 0.127225     2: 0.621466     3: 0.227199\n",
    "0: 0.752796     1: -0.107466    2: -0.386729    3: 0.273385\n",
    "0: 0.825698     1: -0.046203    2: 0.392473     3: 0.707491\n",
    "0: 0.796414     1: 0.192123     2: -0.258089    3: 0.176156\n",
    "0: 0.267560     1: 0.540984     2: 0.122007     3: 0.185006\n",
    "0: 0.594400     1: 0.400079     2: 0.571149     3: 0.552870\n",
    "0: -0.401574    1: 0.320254     2: 0.286199     3: -0.387525\n",
    "0: -0.355148    1: 0.448428     2: 0.262629     3: 0.177041\n",
    "0: 0.679082     1: 0.159542     2: 0.649680     3: 0.735584\n",
    "0: 0.207162     1: 0.703382     2: 0.201693     3: 0.114070\n",
    "0: 0.811670     1: 0.028778     2: 0.703015     3: 0.363052\n",
    "0: -0.155644    1: 0.441541     2: 0.321290     3: 0.430452\n",
    "0: -0.471535    1: 0.354663     2: -0.298793    3: -0.088013\n",
    "0: 0.727447     1: 0.281579     2: -0.542204    3: 0.259916\n",
    "0: 0.578844     1: 0.465671     2: 0.154478     3: 0.350666\n",
    "0: 0.909887     1: 0.294216     2: 0.461593     3: 0.527799\n",
    "0: 0.560521     1: -0.106856    2: 0.861874     3: 0.494550\n",
    "0: -0.170958    1: 0.255228     2: 0.357235     3: 0.268511\n",
    "0: 0.660585     1: 0.349419     2: 0.863783     3: 0.030049\n",
    "0: 0.778813     1: -0.088784    2: 0.830016     3: 0.681317\n",
    "0: -0.438291    1: 0.669017     2: -0.024268    3: 0.236602\n",
    "0: 0.597649     1: -0.189815    2: 0.648707     3: 0.571280\n",
    "0: 0.776157     1: 0.701490     2: 0.711312     3: 0.550581\n",
    "0: -0.042498    1: 0.387477     2: 0.461451     3: 0.299928\n",
    "0: -0.532665    1: 0.480564     2: 0.460733     3: -0.064421\n",
    "0: -0.118947    1: 0.468496     2: -0.592145    3: 0.391683\n",
    "0: 0.082056     1: -0.152509    2: 0.188184     3: 0.523480\n",
    "0: -0.179782    1: 0.571737     2: -0.376920    3: -0.027590\n",
    "0: 0.153142     1: 0.556150     2: -0.416364    3: 0.508603\n",
    "0: 0.512770     1: 0.502915     2: 0.075138     3: -0.105185\n",
    "0: -0.212795    1: 0.514791     2: -0.277452    3: 0.238599\n",
    "0: 0.886640     1: 0.308096     2: -0.048274    3: 0.198991\n",
    "0: 0.757205     1: -0.097081    2: 0.354770     3: 0.272311\n",
    "0: 0.584548     1: 0.629067     2: 0.925415     3: 0.274842\n",
    "0: 0.807398     1: 0.062977     2: 0.450839     3: 0.302872\n",
    "0: 0.810850     1: 0.313188     2: 0.851121     3: 0.215049\n",
    "0: -0.303493    1: -0.251309    2: 0.596931     3: 0.495240\n",
    "0: 0.753246     1: 0.279877     2: 0.902701     3: 0.516364\n",
    "0: 0.016896     1: -0.287761    2: 0.802277     3: 0.061350\n",
    "0: 0.379514     1: 0.238907     2: 0.446815     3: -0.160041\n",
    "0: 0.852980     1: 0.432942     2: 0.733826     3: 0.791420\n",
    "0: -0.184190    1: 0.490798     2: 0.588719     3: 0.005639\n",
    "0: 0.122098     1: 0.497916     2: 0.535337     3: 0.077943\n",
    "0: 0.247321     1: 0.493785     2: -0.554895    3: 0.048820\n",
    "0: 0.814490     1: 0.331824     2: -0.114818    3: 0.678198\n",
    "0: 0.682637     1: 0.545084     2: -0.253923    3: 0.557095\n",
    "0: -0.155254    1: 0.661747     2: 0.274250     3: 0.645503\n",
    "0: 0.255089     1: 0.237791     2: 0.283757     3: 0.264961\n",
    "0: -0.325672    1: 0.022570     2: 0.085017     3: -0.214290\n",
    "0: -0.163858    1: 0.136416     2: 0.362846     3: 0.409274\n",
    "0: 0.841054     1: 0.232477     2: 0.604819     3: 0.648110\n",
    "0: -0.378618    1: 0.224402     2: 0.596634     3: 0.146745\n",
    "0: 0.790212     1: 0.387697     2: 0.313107     3: 0.686449\n",
    "0: 0.573015     1: 0.220021     2: 0.305959     3: 0.622515\n",
    "0: -0.353461    1: 0.267980     2: 0.668996     3: 0.047554\n",
    "0: 0.810301     1: 0.589919     2: 0.332529     3: 0.777524\n",
    "0: 0.458242     1: 0.561418     2: -0.194010    3: 0.109335\n",
    "0: 0.841037     1: 0.354599     2: -0.281231    3: 0.057269\n",
    "0: 0.575526     1: -0.194396    2: 0.753173     3: 0.276826\n",
    "0: 0.269606     1: 0.684515     2: 0.776654     3: 0.429311\n",
    "0: 0.702063     1: 0.074506     2: 0.618576     3: 0.436823\n",
    "0: 0.582814     1: 0.556662     2: 0.451128     3: 0.768562\n",
    "0: 0.675401     1: 0.550257     2: -0.130077    3: 0.148936\n",
    "0: 0.700350     1: 0.211994     2: 0.861799     3: 0.237296\n",
    "0: 0.786759     1: -0.164243    2: -0.198528    3: 0.329615\n",
    "0: -0.719790    1: 0.223700     2: 0.589659     3: 0.248668\n",
    "0: -0.534411    1: -0.016794    2: 0.532802     3: 0.378539'''"
   ]
  },
  {
   "cell_type": "code",
   "execution_count": 151,
   "metadata": {},
   "outputs": [],
   "source": [
    "def string_to_array(string):\n",
    "    from_list = []\n",
    "    out_array = np.zeros((1000, 4))\n",
    "    count = 0\n",
    "    for l in string.split('\\n'):\n",
    "        for x in l.split(':'):\n",
    "            for i in x.strip().split(' '):\n",
    "                if i != '' and len(i) > 3:\n",
    "                    # print(i)\n",
    "                    from_list.append(float(i))\n",
    "        out_array[count] = np.array(from_list)\n",
    "        count+=1\n",
    "        from_list = []\n",
    "    return out_array\n",
    "outputs_c.split('\\n')\n",
    "outputs_c_list = []\n",
    "from_c_list = []\n",
    "out_array_c = np.zeros((100, 4))\n",
    "count = 0\n",
    "for l in outputs_c.split('\\n'):\n",
    "    for x in l.split(':'):\n",
    "        for i in x.strip().split(' '):\n",
    "            if i != '' and len(i) > 3:\n",
    "                # print(i)\n",
    "                from_c_list.append(float(i))\n",
    "    outputs_c_list.append(from_c_list)\n",
    "    out_array_c[count] = np.array(from_c_list)\n",
    "    count+=1\n",
    "    from_c_list = []"
   ]
  },
  {
   "cell_type": "code",
   "execution_count": 152,
   "metadata": {},
   "outputs": [],
   "source": [
    "# spikes_c = string_to_array(spikes_c)"
   ]
  },
  {
   "cell_type": "code",
   "execution_count": 153,
   "metadata": {},
   "outputs": [
    {
     "name": "stdout",
     "output_type": "stream",
     "text": [
      "[[-0.268686  0.096854  0.184507  0.549704]\n",
      " [ 0.388102  0.595771  0.511689  0.496114]\n",
      " [-0.151394  0.409451  0.002139 -0.077049]\n",
      " [ 0.297985  0.390778  0.122387  0.622142]\n",
      " [ 0.76178   0.68855  -0.05991   0.498886]\n",
      " [ 0.150056  0.357885  0.259009  0.019212]\n",
      " [ 0.903141  0.528781  0.504609  0.768598]\n",
      " [ 0.472589  0.484422  0.724738  0.552427]\n",
      " [ 0.658617 -0.260635  0.05878   0.370446]\n",
      " [ 0.776304  0.402462  0.854386  0.723279]\n",
      " [ 0.830417  0.40562   0.674315  0.414413]\n",
      " [-0.221795  0.634565  0.420316  0.503969]\n",
      " [ 0.716349  0.616026  0.798654  0.299413]\n",
      " [ 0.032669  0.528914  0.805211  0.293685]\n",
      " [ 0.933487  0.523864  0.61212   0.698835]\n",
      " [-0.647495  0.540122  0.276014  0.096287]\n",
      " [-0.210396  0.446149  0.563466  0.172629]\n",
      " [ 0.295466  0.359963 -0.330073  0.27419 ]\n",
      " [ 0.740225  0.172051 -0.229041  0.635339]\n",
      " [ 0.7951    0.607392  0.364552  0.424637]\n",
      " [-0.346475  0.308424  0.166713  0.250433]\n",
      " [ 0.323147  0.404514 -0.578015  0.276551]\n",
      " [ 0.494443  0.058113  0.851651  0.795521]\n",
      " [ 0.12012   0.31706   0.406238  0.244346]\n",
      " [ 0.602462 -0.320285  0.763864  0.463227]\n",
      " [ 0.759087  0.174135  0.404368  0.750663]\n",
      " [ 0.610081  0.288397  0.201654 -0.261195]\n",
      " [ 0.101053  0.248511 -0.005442 -0.052212]\n",
      " [ 0.791351  0.511003 -0.233719 -0.029204]\n",
      " [-0.268349  0.519833  0.449625  0.097003]\n",
      " [-0.322736  0.221918  0.460575 -0.159646]\n",
      " [ 0.139625  0.628243  0.701386  0.541498]\n",
      " [ 0.171476  0.062181  0.853478  0.471336]\n",
      " [ 0.096143  0.127225  0.621466  0.227199]\n",
      " [ 0.752796 -0.107466 -0.386729  0.273385]\n",
      " [ 0.825698 -0.046203  0.392473  0.707491]\n",
      " [ 0.796414  0.192123 -0.258089  0.176156]\n",
      " [ 0.26756   0.540984  0.122007  0.185006]\n",
      " [ 0.5944    0.400079  0.571149  0.55287 ]\n",
      " [-0.401574  0.320254  0.286199 -0.387525]\n",
      " [-0.355148  0.448428  0.262629  0.177041]\n",
      " [ 0.679082  0.159542  0.64968   0.735584]\n",
      " [ 0.207162  0.703382  0.201693  0.11407 ]\n",
      " [ 0.81167   0.028778  0.703015  0.363052]\n",
      " [-0.155644  0.441541  0.32129   0.430452]\n",
      " [-0.471535  0.354663 -0.298793 -0.088013]\n",
      " [ 0.727447  0.281579 -0.542204  0.259916]\n",
      " [ 0.578844  0.465671  0.154478  0.350666]\n",
      " [ 0.909887  0.294216  0.461593  0.527799]\n",
      " [ 0.560521 -0.106856  0.861874  0.49455 ]\n",
      " [-0.170958  0.255228  0.357235  0.268511]\n",
      " [ 0.660585  0.349419  0.863783  0.030049]\n",
      " [ 0.778813 -0.088784  0.830016  0.681317]\n",
      " [-0.438291  0.669017 -0.024268  0.236602]\n",
      " [ 0.597649 -0.189815  0.648707  0.57128 ]\n",
      " [ 0.776157  0.70149   0.711312  0.550581]\n",
      " [-0.042498  0.387477  0.461451  0.299928]\n",
      " [-0.532665  0.480564  0.460733 -0.064421]\n",
      " [-0.118947  0.468496 -0.592145  0.391683]\n",
      " [ 0.082056 -0.152509  0.188184  0.52348 ]\n",
      " [-0.179782  0.571737 -0.37692  -0.02759 ]\n",
      " [ 0.153142  0.55615  -0.416364  0.508603]\n",
      " [ 0.51277   0.502915  0.075138 -0.105185]\n",
      " [-0.212795  0.514791 -0.277452  0.238599]\n",
      " [ 0.88664   0.308096 -0.048274  0.198991]\n",
      " [ 0.757205 -0.097081  0.35477   0.272311]\n",
      " [ 0.584548  0.629067  0.925415  0.274842]\n",
      " [ 0.807398  0.062977  0.450839  0.302872]\n",
      " [ 0.81085   0.313188  0.851121  0.215049]\n",
      " [-0.303493 -0.251309  0.596931  0.49524 ]\n",
      " [ 0.753246  0.279877  0.902701  0.516364]\n",
      " [ 0.016896 -0.287761  0.802277  0.06135 ]\n",
      " [ 0.379514  0.238907  0.446815 -0.160041]\n",
      " [ 0.85298   0.432942  0.733826  0.79142 ]\n",
      " [-0.18419   0.490798  0.588719  0.005639]\n",
      " [ 0.122098  0.497916  0.535337  0.077943]\n",
      " [ 0.247321  0.493785 -0.554895  0.04882 ]\n",
      " [ 0.81449   0.331824 -0.114818  0.678198]\n",
      " [ 0.682637  0.545084 -0.253923  0.557095]\n",
      " [-0.155254  0.661747  0.27425   0.645503]\n",
      " [ 0.255089  0.237791  0.283757  0.264961]\n",
      " [-0.325672  0.02257   0.085017 -0.21429 ]\n",
      " [-0.163858  0.136416  0.362846  0.409274]\n",
      " [ 0.841054  0.232477  0.604819  0.64811 ]\n",
      " [-0.378618  0.224402  0.596634  0.146745]\n",
      " [ 0.790212  0.387697  0.313107  0.686449]\n",
      " [ 0.573015  0.220021  0.305959  0.622515]\n",
      " [-0.353461  0.26798   0.668996  0.047554]\n",
      " [ 0.810301  0.589919  0.332529  0.777524]\n",
      " [ 0.458242  0.561418 -0.19401   0.109335]\n",
      " [ 0.841037  0.354599 -0.281231  0.057269]\n",
      " [ 0.575526 -0.194396  0.753173  0.276826]\n",
      " [ 0.269606  0.684515  0.776654  0.429311]\n",
      " [ 0.702063  0.074506  0.618576  0.436823]\n",
      " [ 0.582814  0.556662  0.451128  0.768562]\n",
      " [ 0.675401  0.550257 -0.130077  0.148936]\n",
      " [ 0.70035   0.211994  0.861799  0.237296]\n",
      " [ 0.786759 -0.164243 -0.198528  0.329615]\n",
      " [-0.71979   0.2237    0.589659  0.248668]\n",
      " [-0.534411 -0.016794  0.532802  0.378539]]\n"
     ]
    }
   ],
   "source": [
    "out_array_c.shape\n",
    "print(out_array_c)\n",
    "np.savetxt('outputs_c.csv', out_array_c, delimiter=',')\n",
    "# outputs_c_list"
   ]
  },
  {
   "cell_type": "code",
   "execution_count": 154,
   "metadata": {},
   "outputs": [
    {
     "data": {
      "text/plain": [
       "(100, 4)"
      ]
     },
     "execution_count": 154,
     "metadata": {},
     "output_type": "execute_result"
    }
   ],
   "source": [
    "# out_array_p = np.loadtxt('hiddenspikes.txt',delimiter=',')\n",
    "out_array_p = np.loadtxt('actions.csv',delimiter=',')\n",
    "out_array_p.shape"
   ]
  },
  {
   "cell_type": "code",
   "execution_count": 155,
   "metadata": {},
   "outputs": [
    {
     "name": "stdout",
     "output_type": "stream",
     "text": [
      "False\n",
      "(array([ 0,  1,  3,  4,  5,  6,  9, 12, 14, 19, 22]),)\n"
     ]
    }
   ],
   "source": [
    "tol = 1e-2\n",
    "\n",
    "print(np.allclose(out_array_c, out_array_p, atol=tol))\n",
    "print(np.where(np.sum(np.abs(out_array_c-out_array_p), axis=1)>tol))\n",
    "difference = out_array_c-out_array_p"
   ]
  },
  {
   "cell_type": "code",
   "execution_count": 156,
   "metadata": {},
   "outputs": [
    {
     "name": "stdout",
     "output_type": "stream",
     "text": [
      "[-0.28131452  0.23724616  0.17712888  0.54013348]\n",
      "[-0.268686  0.096854  0.184507  0.549704]\n",
      "spikes:\n"
     ]
    }
   ],
   "source": [
    "# difference[18]\n",
    "i = 0\n",
    "\n",
    "print(out_array_p[i])\n",
    "print(out_array_c[i])\n",
    "print(\"spikes:\")\n",
    "# print(spikes_array_p[i])\n",
    "# print(spikes_c[i])"
   ]
  },
  {
   "cell_type": "code",
   "execution_count": 157,
   "metadata": {},
   "outputs": [
    {
     "data": {
      "image/png": "[encoded data removed]",
      "text/plain": [
       "<Figure size 640x480 with 1 Axes>"
      ]
     },
     "metadata": {},
     "output_type": "display_data"
    }
   ],
   "source": [
    "# plot the difference\n",
    "import matplotlib.pyplot as plt\n",
    "plt.plot(difference[:,0])\n",
    "plt.plot(difference[:,1])\n",
    "plt.plot(difference[:,2])\n",
    "plt.plot(difference[:,3])\n",
    "plt.show()\n",
    "\n"
   ]
  },
  {
   "cell_type": "code",
   "execution_count": null,
   "metadata": {},
   "outputs": [],
   "source": []
  }
 ],
 "metadata": {
  "kernelspec": {
   "display_name": "thesis",
   "language": "python",
   "name": "python3"
  },
  "language_info": {
   "codemirror_mode": {
    "name": "ipython",
    "version": 3
   },
   "file_extension": ".py",
   "mimetype": "text/x-python",
   "name": "python",
   "nbconvert_exporter": "python",
   "pygments_lexer": "ipython3",
   "version": "3.11.10"
  }
 },
 "nbformat": 4,
 "nbformat_minor": 2
}
